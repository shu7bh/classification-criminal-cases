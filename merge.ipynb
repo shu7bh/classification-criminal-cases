{
 "cells": [
  {
   "cell_type": "code",
   "execution_count": 1,
   "metadata": {},
   "outputs": [],
   "source": [
    "from dask import dataframe as dd\n",
    "import warnings\n",
    "warnings.filterwarnings('ignore')\n",
    "\n",
    "# read and concatenate data through dask\n",
    "df = dd.read_csv('cases/*/*.part')"
   ]
  },
  {
   "cell_type": "code",
   "execution_count": 2,
   "metadata": {},
   "outputs": [
    {
     "data": {
      "text/html": [
       "<div>\n",
       "<style scoped>\n",
       "    .dataframe tbody tr th:only-of-type {\n",
       "        vertical-align: middle;\n",
       "    }\n",
       "\n",
       "    .dataframe tbody tr th {\n",
       "        vertical-align: top;\n",
       "    }\n",
       "\n",
       "    .dataframe thead th {\n",
       "        text-align: right;\n",
       "    }\n",
       "</style>\n",
       "<table border=\"1\" class=\"dataframe\">\n",
       "  <thead>\n",
       "    <tr style=\"text-align: right;\">\n",
       "      <th></th>\n",
       "      <th>ddl_case_id</th>\n",
       "      <th>year</th>\n",
       "      <th>judge_position</th>\n",
       "      <th>female_defendant</th>\n",
       "      <th>female_petitioner</th>\n",
       "      <th>female_adv_def</th>\n",
       "      <th>female_adv_pet</th>\n",
       "      <th>type_name</th>\n",
       "      <th>purpose_name</th>\n",
       "      <th>disp_name</th>\n",
       "      <th>act</th>\n",
       "      <th>criminal</th>\n",
       "    </tr>\n",
       "  </thead>\n",
       "  <tbody>\n",
       "    <tr>\n",
       "      <th>0</th>\n",
       "      <td>01-01-03-201706000312014</td>\n",
       "      <td>2014</td>\n",
       "      <td>district and sessions court</td>\n",
       "      <td>0</td>\n",
       "      <td>0</td>\n",
       "      <td>1</td>\n",
       "      <td>0</td>\n",
       "      <td>1903</td>\n",
       "      <td>4366</td>\n",
       "      <td>22</td>\n",
       "      <td>17353.0</td>\n",
       "      <td>1</td>\n",
       "    </tr>\n",
       "    <tr>\n",
       "      <th>1</th>\n",
       "      <td>01-02-05-201913000292014</td>\n",
       "      <td>2014</td>\n",
       "      <td>civil judge junior division</td>\n",
       "      <td>0</td>\n",
       "      <td>1</td>\n",
       "      <td>0</td>\n",
       "      <td>0</td>\n",
       "      <td>1907</td>\n",
       "      <td>5487</td>\n",
       "      <td>26</td>\n",
       "      <td>4759.0</td>\n",
       "      <td>1</td>\n",
       "    </tr>\n",
       "    <tr>\n",
       "      <th>2</th>\n",
       "      <td>01-02-06-203414004572014</td>\n",
       "      <td>2014</td>\n",
       "      <td>civil judge junior division</td>\n",
       "      <td>0</td>\n",
       "      <td>1</td>\n",
       "      <td>1</td>\n",
       "      <td>0</td>\n",
       "      <td>5736</td>\n",
       "      <td>4919</td>\n",
       "      <td>45</td>\n",
       "      <td>17353.0</td>\n",
       "      <td>1</td>\n",
       "    </tr>\n",
       "    <tr>\n",
       "      <th>3</th>\n",
       "      <td>01-03-01-203421001102014</td>\n",
       "      <td>2014</td>\n",
       "      <td>criminal cases</td>\n",
       "      <td>0</td>\n",
       "      <td>0</td>\n",
       "      <td>0</td>\n",
       "      <td>0</td>\n",
       "      <td>5736</td>\n",
       "      <td>2821</td>\n",
       "      <td>26</td>\n",
       "      <td>17353.0</td>\n",
       "      <td>1</td>\n",
       "    </tr>\n",
       "    <tr>\n",
       "      <th>4</th>\n",
       "      <td>01-03-08-203011000172014</td>\n",
       "      <td>2014</td>\n",
       "      <td>criminal cases</td>\n",
       "      <td>0</td>\n",
       "      <td>0</td>\n",
       "      <td>0</td>\n",
       "      <td>0</td>\n",
       "      <td>5274</td>\n",
       "      <td>2821</td>\n",
       "      <td>25</td>\n",
       "      <td>17353.0</td>\n",
       "      <td>1</td>\n",
       "    </tr>\n",
       "  </tbody>\n",
       "</table>\n",
       "</div>"
      ],
      "text/plain": [
       "                ddl_case_id  year               judge_position  \\\n",
       "0  01-01-03-201706000312014  2014  district and sessions court   \n",
       "1  01-02-05-201913000292014  2014  civil judge junior division   \n",
       "2  01-02-06-203414004572014  2014  civil judge junior division   \n",
       "3  01-03-01-203421001102014  2014               criminal cases   \n",
       "4  01-03-08-203011000172014  2014               criminal cases   \n",
       "\n",
       "   female_defendant  female_petitioner  female_adv_def  female_adv_pet  \\\n",
       "0                 0                  0               1               0   \n",
       "1                 0                  1               0               0   \n",
       "2                 0                  1               1               0   \n",
       "3                 0                  0               0               0   \n",
       "4                 0                  0               0               0   \n",
       "\n",
       "   type_name  purpose_name  disp_name      act  criminal  \n",
       "0       1903          4366         22  17353.0         1  \n",
       "1       1907          5487         26   4759.0         1  \n",
       "2       5736          4919         45  17353.0         1  \n",
       "3       5736          2821         26  17353.0         1  \n",
       "4       5274          2821         25  17353.0         1  "
      ]
     },
     "execution_count": 2,
     "metadata": {},
     "output_type": "execute_result"
    }
   ],
   "source": [
    "df.head()"
   ]
  },
  {
   "cell_type": "code",
   "execution_count": 4,
   "metadata": {},
   "outputs": [],
   "source": [
    "df = df.drop('ddl_case_id', axis=1)"
   ]
  },
  {
   "cell_type": "code",
   "execution_count": 5,
   "metadata": {},
   "outputs": [
    {
     "data": {
      "text/plain": [
       "year                   int64\n",
       "judge_position        object\n",
       "female_defendant       int64\n",
       "female_petitioner      int64\n",
       "female_adv_def         int64\n",
       "female_adv_pet         int64\n",
       "type_name              int64\n",
       "purpose_name           int64\n",
       "disp_name              int64\n",
       "act                  float64\n",
       "criminal               int64\n",
       "dtype: object"
      ]
     },
     "execution_count": 5,
     "metadata": {},
     "output_type": "execute_result"
    }
   ],
   "source": [
    "df.dtypes"
   ]
  },
  {
   "cell_type": "code",
   "execution_count": 17,
   "metadata": {},
   "outputs": [
    {
     "data": {
      "text/plain": [
       "['/home/shu7bh/Programming/IIITH/Precog/Task/cases/cases_merged.csv']"
      ]
     },
     "execution_count": 17,
     "metadata": {},
     "output_type": "execute_result"
    }
   ],
   "source": [
    "# print to csv single file\n",
    "df.to_csv('cases/cases_merged.csv', index=False, single_file=True)"
   ]
  },
  {
   "cell_type": "code",
   "execution_count": 18,
   "metadata": {},
   "outputs": [],
   "source": [
    "import pandas as pd\n",
    "\n",
    "# read data through pandas\n",
    "df = pd.read_csv('cases/cases_merged.csv')"
   ]
  },
  {
   "cell_type": "code",
   "execution_count": 19,
   "metadata": {},
   "outputs": [],
   "source": [
    "# get 'judge_position' column unique values\n",
    "uni = df['judge_position'].unique()\n",
    "\n",
    "for i in range(len(uni)):\n",
    "    df['judge_position'] = df['judge_position'].replace(uni[i], i)"
   ]
  },
  {
   "cell_type": "code",
   "execution_count": 20,
   "metadata": {},
   "outputs": [
    {
     "data": {
      "text/html": [
       "<div>\n",
       "<style scoped>\n",
       "    .dataframe tbody tr th:only-of-type {\n",
       "        vertical-align: middle;\n",
       "    }\n",
       "\n",
       "    .dataframe tbody tr th {\n",
       "        vertical-align: top;\n",
       "    }\n",
       "\n",
       "    .dataframe thead th {\n",
       "        text-align: right;\n",
       "    }\n",
       "</style>\n",
       "<table border=\"1\" class=\"dataframe\">\n",
       "  <thead>\n",
       "    <tr style=\"text-align: right;\">\n",
       "      <th></th>\n",
       "      <th>year</th>\n",
       "      <th>judge_position</th>\n",
       "      <th>female_defendant</th>\n",
       "      <th>female_petitioner</th>\n",
       "      <th>female_adv_def</th>\n",
       "      <th>female_adv_pet</th>\n",
       "      <th>type_name</th>\n",
       "      <th>purpose_name</th>\n",
       "      <th>disp_name</th>\n",
       "      <th>act</th>\n",
       "      <th>criminal</th>\n",
       "    </tr>\n",
       "  </thead>\n",
       "  <tbody>\n",
       "    <tr>\n",
       "      <th>0</th>\n",
       "      <td>2014</td>\n",
       "      <td>0</td>\n",
       "      <td>0</td>\n",
       "      <td>0</td>\n",
       "      <td>1</td>\n",
       "      <td>0</td>\n",
       "      <td>1903</td>\n",
       "      <td>4366</td>\n",
       "      <td>22</td>\n",
       "      <td>17353</td>\n",
       "      <td>1</td>\n",
       "    </tr>\n",
       "    <tr>\n",
       "      <th>1</th>\n",
       "      <td>2014</td>\n",
       "      <td>1</td>\n",
       "      <td>0</td>\n",
       "      <td>1</td>\n",
       "      <td>0</td>\n",
       "      <td>0</td>\n",
       "      <td>1907</td>\n",
       "      <td>5487</td>\n",
       "      <td>26</td>\n",
       "      <td>4759</td>\n",
       "      <td>1</td>\n",
       "    </tr>\n",
       "    <tr>\n",
       "      <th>2</th>\n",
       "      <td>2014</td>\n",
       "      <td>1</td>\n",
       "      <td>0</td>\n",
       "      <td>1</td>\n",
       "      <td>1</td>\n",
       "      <td>0</td>\n",
       "      <td>5736</td>\n",
       "      <td>4919</td>\n",
       "      <td>45</td>\n",
       "      <td>17353</td>\n",
       "      <td>1</td>\n",
       "    </tr>\n",
       "    <tr>\n",
       "      <th>3</th>\n",
       "      <td>2014</td>\n",
       "      <td>2</td>\n",
       "      <td>0</td>\n",
       "      <td>0</td>\n",
       "      <td>0</td>\n",
       "      <td>0</td>\n",
       "      <td>5736</td>\n",
       "      <td>2821</td>\n",
       "      <td>26</td>\n",
       "      <td>17353</td>\n",
       "      <td>1</td>\n",
       "    </tr>\n",
       "    <tr>\n",
       "      <th>4</th>\n",
       "      <td>2014</td>\n",
       "      <td>2</td>\n",
       "      <td>0</td>\n",
       "      <td>0</td>\n",
       "      <td>0</td>\n",
       "      <td>0</td>\n",
       "      <td>5274</td>\n",
       "      <td>2821</td>\n",
       "      <td>25</td>\n",
       "      <td>17353</td>\n",
       "      <td>1</td>\n",
       "    </tr>\n",
       "  </tbody>\n",
       "</table>\n",
       "</div>"
      ],
      "text/plain": [
       "   year  judge_position  female_defendant  female_petitioner  female_adv_def  \\\n",
       "0  2014               0                 0                  0               1   \n",
       "1  2014               1                 0                  1               0   \n",
       "2  2014               1                 0                  1               1   \n",
       "3  2014               2                 0                  0               0   \n",
       "4  2014               2                 0                  0               0   \n",
       "\n",
       "   female_adv_pet  type_name  purpose_name  disp_name    act  criminal  \n",
       "0               0       1903          4366         22  17353         1  \n",
       "1               0       1907          5487         26   4759         1  \n",
       "2               0       5736          4919         45  17353         1  \n",
       "3               0       5736          2821         26  17353         1  \n",
       "4               0       5274          2821         25  17353         1  "
      ]
     },
     "execution_count": 20,
     "metadata": {},
     "output_type": "execute_result"
    }
   ],
   "source": [
    "df.head()"
   ]
  },
  {
   "cell_type": "code",
   "execution_count": 22,
   "metadata": {},
   "outputs": [
    {
     "name": "stdout",
     "output_type": "stream",
     "text": [
      "               Specs         Score\n",
      "9                act  7.293730e+07\n",
      "6          type_name  4.094937e+07\n",
      "1     judge_position  2.215109e+05\n",
      "8          disp_name  4.521928e+04\n",
      "7       purpose_name  2.498491e+04\n",
      "3  female_petitioner  6.908437e+03\n",
      "2   female_defendant  5.737696e+03\n",
      "5     female_adv_pet  3.208959e+03\n",
      "4     female_adv_def  1.267237e+01\n",
      "0               year  8.935087e-01\n"
     ]
    }
   ],
   "source": [
    "# select the best k features using chi2\n",
    "from sklearn.feature_selection import SelectKBest\n",
    "from sklearn.feature_selection import chi2\n",
    "\n",
    "X = df.drop('criminal', axis=1)\n",
    "y = df['criminal']\n",
    "\n",
    "bestfeatures = SelectKBest(score_func=chi2, k=10)\n",
    "fit = bestfeatures.fit(X, y)\n",
    "dfscores = pd.DataFrame(fit.scores_)\n",
    "dfcolumns = pd.DataFrame(X.columns)\n",
    "\n",
    "# concat two dataframes for better visualization\n",
    "featureScores = pd.concat([dfcolumns, dfscores], axis=1)\n",
    "featureScores.columns = ['Specs', 'Score']  # naming the dataframe columns\n",
    "print(featureScores.nlargest(10, 'Score'))  # print 10 best features"
   ]
  },
  {
   "cell_type": "code",
   "execution_count": 23,
   "metadata": {},
   "outputs": [],
   "source": [
    "df = df.drop(['year', 'female_adv_def', 'female_adv_pet'], axis=1)\n",
    "\n",
    "# write to csv\n",
    "df.to_csv('cases/cases_merged.csv', index=False)"
   ]
  },
  {
   "cell_type": "code",
   "execution_count": 25,
   "metadata": {},
   "outputs": [
    {
     "data": {
      "image/png": "[encoded data removed]",
      "text/plain": [
       "<Figure size 1440x1440 with 2 Axes>"
      ]
     },
     "metadata": {
      "needs_background": "light"
     },
     "output_type": "display_data"
    }
   ],
   "source": [
    "# heatmap of correlation matrix\n",
    "import seaborn as sns\n",
    "import matplotlib.pyplot as plt\n",
    "\n",
    "corrmat = df.corr()\n",
    "top_corr_features = corrmat.index\n",
    "plt.figure(figsize=(20, 20))\n",
    "# plot heat map\n",
    "g = sns.heatmap(df[top_corr_features].corr(), annot=True)"
   ]
  }
 ],
 "metadata": {
  "kernelspec": {
   "display_name": "Python 3.10.8 64-bit",
   "language": "python",
   "name": "python3"
  },
  "language_info": {
   "codemirror_mode": {
    "name": "ipython",
    "version": 3
   },
   "file_extension": ".py",
   "mimetype": "text/x-python",
   "name": "python",
   "nbconvert_exporter": "python",
   "pygments_lexer": "ipython3",
   "version": "3.10.8"
  },
  "orig_nbformat": 4,
  "vscode": {
   "interpreter": {
    "hash": "e7370f93d1d0cde622a1f8e1c04877d8463912d04d973331ad4851f04de6915a"
   }
  }
 },
 "nbformat": 4,
 "nbformat_minor": 2
}
